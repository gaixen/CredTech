{
 "cells": [
  {
   "cell_type": "code",
   "execution_count": null,
   "id": "3bf3e644",
   "metadata": {},
   "outputs": [],
   "source": [
    "import requests\n",
    "import pandas as pd\n",
    "import os\n",
    "\n",
    "from dotenv import load_dotenv\n",
    "api_key = os.getenv('FRED_API_KEY')\n",
    "\n",
    "base_url = 'https://api.stlouisfed.org/fred/'\n",
    "\n"
   ]
  },
  {
   "cell_type": "code",
   "execution_count": null,
   "id": "97d3492d",
   "metadata": {},
   "outputs": [],
   "source": [
    "\n",
    "obs_endpoint = 'series/observations'\n",
    "\n",
    "# Assign parameters\n",
    "series_id = 'CPIAUCSL'\n",
    "start_date = '2000-01-01'\n",
    "end_date = '2023-06-30'\n",
    "ts_frequency = 'q' # quarterly data\n",
    "ts_units = 'pc1'\n",
    "\n",
    "obs_params = {\n",
    "    'series_id': series_id,\n",
    "    'api_key': api_key,\n",
    "    'file_type': 'json',\n",
    "    'observation_start': start_date,\n",
    "    'observation_end': end_date,\n",
    "    # 'frequency': ts_frequency\n",
    "    # 'units': ts_units\n",
    "}"
   ]
  },
  {
   "cell_type": "code",
   "execution_count": 10,
   "id": "e4b72923",
   "metadata": {},
   "outputs": [
    {
     "name": "stdout",
     "output_type": "stream",
     "text": [
      "{'realtime_start': '2025-08-19', 'realtime_end': '2025-08-19', 'observation_start': '2000-01-01', 'observation_end': '2023-06-30', 'units': 'lin', 'output_type': 1, 'file_type': 'json', 'order_by': 'observation_date', 'sort_order': 'asc', 'count': 282, 'offset': 0, 'limit': 100000, 'observations': [{'realtime_start': '2025-08-19', 'realtime_end': '2025-08-19', 'date': '2000-01-01', 'value': '169.3'}, {'realtime_start': '2025-08-19', 'realtime_end': '2025-08-19', 'date': '2000-02-01', 'value': '170.0'}, {'realtime_start': '2025-08-19', 'realtime_end': '2025-08-19', 'date': '2000-03-01', 'value': '171.0'}, {'realtime_start': '2025-08-19', 'realtime_end': '2025-08-19', 'date': '2000-04-01', 'value': '170.9'}, {'realtime_start': '2025-08-19', 'realtime_end': '2025-08-19', 'date': '2000-05-01', 'value': '171.2'}, {'realtime_start': '2025-08-19', 'realtime_end': '2025-08-19', 'date': '2000-06-01', 'value': '172.2'}, {'realtime_start': '2025-08-19', 'realtime_end': '2025-08-19', 'date': '2000-07-01', 'value': '172.7'}, {'realtime_start': '2025-08-19', 'realtime_end': '2025-08-19', 'date': '2000-08-01', 'value': '172.7'}, {'realtime_start': '2025-08-19', 'realtime_end': '2025-08-19', 'date': '2000-09-01', 'value': '173.6'}, {'realtime_start': '2025-08-19', 'realtime_end': '2025-08-19', 'date': '2000-10-01', 'value': '173.9'}, {'realtime_start': '2025-08-19', 'realtime_end': '2025-08-19', 'date': '2000-11-01', 'value': '174.2'}, {'realtime_start': '2025-08-19', 'realtime_end': '2025-08-19', 'date': '2000-12-01', 'value': '174.6'}, {'realtime_start': '2025-08-19', 'realtime_end': '2025-08-19', 'date': '2001-01-01', 'value': '175.6'}, {'realtime_start': '2025-08-19', 'realtime_end': '2025-08-19', 'date': '2001-02-01', 'value': '176.0'}, {'realtime_start': '2025-08-19', 'realtime_end': '2025-08-19', 'date': '2001-03-01', 'value': '176.1'}, {'realtime_start': '2025-08-19', 'realtime_end': '2025-08-19', 'date': '2001-04-01', 'value': '176.4'}, {'realtime_start': '2025-08-19', 'realtime_end': '2025-08-19', 'date': '2001-05-01', 'value': '177.3'}, {'realtime_start': '2025-08-19', 'realtime_end': '2025-08-19', 'date': '2001-06-01', 'value': '177.7'}, {'realtime_start': '2025-08-19', 'realtime_end': '2025-08-19', 'date': '2001-07-01', 'value': '177.4'}, {'realtime_start': '2025-08-19', 'realtime_end': '2025-08-19', 'date': '2001-08-01', 'value': '177.4'}, {'realtime_start': '2025-08-19', 'realtime_end': '2025-08-19', 'date': '2001-09-01', 'value': '178.1'}, {'realtime_start': '2025-08-19', 'realtime_end': '2025-08-19', 'date': '2001-10-01', 'value': '177.6'}, {'realtime_start': '2025-08-19', 'realtime_end': '2025-08-19', 'date': '2001-11-01', 'value': '177.5'}, {'realtime_start': '2025-08-19', 'realtime_end': '2025-08-19', 'date': '2001-12-01', 'value': '177.4'}, {'realtime_start': '2025-08-19', 'realtime_end': '2025-08-19', 'date': '2002-01-01', 'value': '177.7'}, {'realtime_start': '2025-08-19', 'realtime_end': '2025-08-19', 'date': '2002-02-01', 'value': '178.0'}, {'realtime_start': '2025-08-19', 'realtime_end': '2025-08-19', 'date': '2002-03-01', 'value': '178.5'}, {'realtime_start': '2025-08-19', 'realtime_end': '2025-08-19', 'date': '2002-04-01', 'value': '179.3'}, {'realtime_start': '2025-08-19', 'realtime_end': '2025-08-19', 'date': '2002-05-01', 'value': '179.5'}, {'realtime_start': '2025-08-19', 'realtime_end': '2025-08-19', 'date': '2002-06-01', 'value': '179.6'}, {'realtime_start': '2025-08-19', 'realtime_end': '2025-08-19', 'date': '2002-07-01', 'value': '180.0'}, {'realtime_start': '2025-08-19', 'realtime_end': '2025-08-19', 'date': '2002-08-01', 'value': '180.5'}, {'realtime_start': '2025-08-19', 'realtime_end': '2025-08-19', 'date': '2002-09-01', 'value': '180.8'}, {'realtime_start': '2025-08-19', 'realtime_end': '2025-08-19', 'date': '2002-10-01', 'value': '181.2'}, {'realtime_start': '2025-08-19', 'realtime_end': '2025-08-19', 'date': '2002-11-01', 'value': '181.5'}, {'realtime_start': '2025-08-19', 'realtime_end': '2025-08-19', 'date': '2002-12-01', 'value': '181.8'}, {'realtime_start': '2025-08-19', 'realtime_end': '2025-08-19', 'date': '2003-01-01', 'value': '182.600'}, {'realtime_start': '2025-08-19', 'realtime_end': '2025-08-19', 'date': '2003-02-01', 'value': '183.600'}, {'realtime_start': '2025-08-19', 'realtime_end': '2025-08-19', 'date': '2003-03-01', 'value': '183.900'}, {'realtime_start': '2025-08-19', 'realtime_end': '2025-08-19', 'date': '2003-04-01', 'value': '183.200'}, {'realtime_start': '2025-08-19', 'realtime_end': '2025-08-19', 'date': '2003-05-01', 'value': '182.900'}, {'realtime_start': '2025-08-19', 'realtime_end': '2025-08-19', 'date': '2003-06-01', 'value': '183.100'}, {'realtime_start': '2025-08-19', 'realtime_end': '2025-08-19', 'date': '2003-07-01', 'value': '183.700'}, {'realtime_start': '2025-08-19', 'realtime_end': '2025-08-19', 'date': '2003-08-01', 'value': '184.5'}, {'realtime_start': '2025-08-19', 'realtime_end': '2025-08-19', 'date': '2003-09-01', 'value': '185.100'}, {'realtime_start': '2025-08-19', 'realtime_end': '2025-08-19', 'date': '2003-10-01', 'value': '184.9'}, {'realtime_start': '2025-08-19', 'realtime_end': '2025-08-19', 'date': '2003-11-01', 'value': '185.000'}, {'realtime_start': '2025-08-19', 'realtime_end': '2025-08-19', 'date': '2003-12-01', 'value': '185.500'}, {'realtime_start': '2025-08-19', 'realtime_end': '2025-08-19', 'date': '2004-01-01', 'value': '186.300'}, {'realtime_start': '2025-08-19', 'realtime_end': '2025-08-19', 'date': '2004-02-01', 'value': '186.700'}, {'realtime_start': '2025-08-19', 'realtime_end': '2025-08-19', 'date': '2004-03-01', 'value': '187.100'}, {'realtime_start': '2025-08-19', 'realtime_end': '2025-08-19', 'date': '2004-04-01', 'value': '187.400'}, {'realtime_start': '2025-08-19', 'realtime_end': '2025-08-19', 'date': '2004-05-01', 'value': '188.200'}, {'realtime_start': '2025-08-19', 'realtime_end': '2025-08-19', 'date': '2004-06-01', 'value': '188.900'}, {'realtime_start': '2025-08-19', 'realtime_end': '2025-08-19', 'date': '2004-07-01', 'value': '189.100'}, {'realtime_start': '2025-08-19', 'realtime_end': '2025-08-19', 'date': '2004-08-01', 'value': '189.200'}, {'realtime_start': '2025-08-19', 'realtime_end': '2025-08-19', 'date': '2004-09-01', 'value': '189.800'}, {'realtime_start': '2025-08-19', 'realtime_end': '2025-08-19', 'date': '2004-10-01', 'value': '190.8'}, {'realtime_start': '2025-08-19', 'realtime_end': '2025-08-19', 'date': '2004-11-01', 'value': '191.700'}, {'realtime_start': '2025-08-19', 'realtime_end': '2025-08-19', 'date': '2004-12-01', 'value': '191.700'}, {'realtime_start': '2025-08-19', 'realtime_end': '2025-08-19', 'date': '2005-01-01', 'value': '191.600'}, {'realtime_start': '2025-08-19', 'realtime_end': '2025-08-19', 'date': '2005-02-01', 'value': '192.400'}, {'realtime_start': '2025-08-19', 'realtime_end': '2025-08-19', 'date': '2005-03-01', 'value': '193.100'}, {'realtime_start': '2025-08-19', 'realtime_end': '2025-08-19', 'date': '2005-04-01', 'value': '193.700'}, {'realtime_start': '2025-08-19', 'realtime_end': '2025-08-19', 'date': '2005-05-01', 'value': '193.600'}, {'realtime_start': '2025-08-19', 'realtime_end': '2025-08-19', 'date': '2005-06-01', 'value': '193.700'}, {'realtime_start': '2025-08-19', 'realtime_end': '2025-08-19', 'date': '2005-07-01', 'value': '194.900'}, {'realtime_start': '2025-08-19', 'realtime_end': '2025-08-19', 'date': '2005-08-01', 'value': '196.100'}, {'realtime_start': '2025-08-19', 'realtime_end': '2025-08-19', 'date': '2005-09-01', 'value': '198.800'}, {'realtime_start': '2025-08-19', 'realtime_end': '2025-08-19', 'date': '2005-10-01', 'value': '199.100'}, {'realtime_start': '2025-08-19', 'realtime_end': '2025-08-19', 'date': '2005-11-01', 'value': '198.100'}, {'realtime_start': '2025-08-19', 'realtime_end': '2025-08-19', 'date': '2005-12-01', 'value': '198.100'}, {'realtime_start': '2025-08-19', 'realtime_end': '2025-08-19', 'date': '2006-01-01', 'value': '199.300'}, {'realtime_start': '2025-08-19', 'realtime_end': '2025-08-19', 'date': '2006-02-01', 'value': '199.400'}, {'realtime_start': '2025-08-19', 'realtime_end': '2025-08-19', 'date': '2006-03-01', 'value': '199.700'}, {'realtime_start': '2025-08-19', 'realtime_end': '2025-08-19', 'date': '2006-04-01', 'value': '200.700'}, {'realtime_start': '2025-08-19', 'realtime_end': '2025-08-19', 'date': '2006-05-01', 'value': '201.300'}, {'realtime_start': '2025-08-19', 'realtime_end': '2025-08-19', 'date': '2006-06-01', 'value': '201.800'}, {'realtime_start': '2025-08-19', 'realtime_end': '2025-08-19', 'date': '2006-07-01', 'value': '202.900'}, {'realtime_start': '2025-08-19', 'realtime_end': '2025-08-19', 'date': '2006-08-01', 'value': '203.800'}, {'realtime_start': '2025-08-19', 'realtime_end': '2025-08-19', 'date': '2006-09-01', 'value': '202.800'}, {'realtime_start': '2025-08-19', 'realtime_end': '2025-08-19', 'date': '2006-10-01', 'value': '201.900'}, {'realtime_start': '2025-08-19', 'realtime_end': '2025-08-19', 'date': '2006-11-01', 'value': '202.000'}, {'realtime_start': '2025-08-19', 'realtime_end': '2025-08-19', 'date': '2006-12-01', 'value': '203.100'}, {'realtime_start': '2025-08-19', 'realtime_end': '2025-08-19', 'date': '2007-01-01', 'value': '203.437'}, {'realtime_start': '2025-08-19', 'realtime_end': '2025-08-19', 'date': '2007-02-01', 'value': '204.226'}, {'realtime_start': '2025-08-19', 'realtime_end': '2025-08-19', 'date': '2007-03-01', 'value': '205.288'}, {'realtime_start': '2025-08-19', 'realtime_end': '2025-08-19', 'date': '2007-04-01', 'value': '205.904'}, {'realtime_start': '2025-08-19', 'realtime_end': '2025-08-19', 'date': '2007-05-01', 'value': '206.755'}, {'realtime_start': '2025-08-19', 'realtime_end': '2025-08-19', 'date': '2007-06-01', 'value': '207.234'}, {'realtime_start': '2025-08-19', 'realtime_end': '2025-08-19', 'date': '2007-07-01', 'value': '207.603'}, {'realtime_start': '2025-08-19', 'realtime_end': '2025-08-19', 'date': '2007-08-01', 'value': '207.667'}, {'realtime_start': '2025-08-19', 'realtime_end': '2025-08-19', 'date': '2007-09-01', 'value': '208.547'}, {'realtime_start': '2025-08-19', 'realtime_end': '2025-08-19', 'date': '2007-10-01', 'value': '209.190'}, {'realtime_start': '2025-08-19', 'realtime_end': '2025-08-19', 'date': '2007-11-01', 'value': '210.834'}, {'realtime_start': '2025-08-19', 'realtime_end': '2025-08-19', 'date': '2007-12-01', 'value': '211.445'}, {'realtime_start': '2025-08-19', 'realtime_end': '2025-08-19', 'date': '2008-01-01', 'value': '212.174'}, {'realtime_start': '2025-08-19', 'realtime_end': '2025-08-19', 'date': '2008-02-01', 'value': '212.687'}, {'realtime_start': '2025-08-19', 'realtime_end': '2025-08-19', 'date': '2008-03-01', 'value': '213.448'}, {'realtime_start': '2025-08-19', 'realtime_end': '2025-08-19', 'date': '2008-04-01', 'value': '213.942'}, {'realtime_start': '2025-08-19', 'realtime_end': '2025-08-19', 'date': '2008-05-01', 'value': '215.208'}, {'realtime_start': '2025-08-19', 'realtime_end': '2025-08-19', 'date': '2008-06-01', 'value': '217.463'}, {'realtime_start': '2025-08-19', 'realtime_end': '2025-08-19', 'date': '2008-07-01', 'value': '219.016'}, {'realtime_start': '2025-08-19', 'realtime_end': '2025-08-19', 'date': '2008-08-01', 'value': '218.690'}, {'realtime_start': '2025-08-19', 'realtime_end': '2025-08-19', 'date': '2008-09-01', 'value': '218.877'}, {'realtime_start': '2025-08-19', 'realtime_end': '2025-08-19', 'date': '2008-10-01', 'value': '216.995'}, {'realtime_start': '2025-08-19', 'realtime_end': '2025-08-19', 'date': '2008-11-01', 'value': '213.153'}, {'realtime_start': '2025-08-19', 'realtime_end': '2025-08-19', 'date': '2008-12-01', 'value': '211.398'}, {'realtime_start': '2025-08-19', 'realtime_end': '2025-08-19', 'date': '2009-01-01', 'value': '211.933'}, {'realtime_start': '2025-08-19', 'realtime_end': '2025-08-19', 'date': '2009-02-01', 'value': '212.705'}, {'realtime_start': '2025-08-19', 'realtime_end': '2025-08-19', 'date': '2009-03-01', 'value': '212.495'}, {'realtime_start': '2025-08-19', 'realtime_end': '2025-08-19', 'date': '2009-04-01', 'value': '212.709'}, {'realtime_start': '2025-08-19', 'realtime_end': '2025-08-19', 'date': '2009-05-01', 'value': '213.022'}, {'realtime_start': '2025-08-19', 'realtime_end': '2025-08-19', 'date': '2009-06-01', 'value': '214.790'}, {'realtime_start': '2025-08-19', 'realtime_end': '2025-08-19', 'date': '2009-07-01', 'value': '214.726'}, {'realtime_start': '2025-08-19', 'realtime_end': '2025-08-19', 'date': '2009-08-01', 'value': '215.445'}, {'realtime_start': '2025-08-19', 'realtime_end': '2025-08-19', 'date': '2009-09-01', 'value': '215.861'}, {'realtime_start': '2025-08-19', 'realtime_end': '2025-08-19', 'date': '2009-10-01', 'value': '216.509'}, {'realtime_start': '2025-08-19', 'realtime_end': '2025-08-19', 'date': '2009-11-01', 'value': '217.234'}, {'realtime_start': '2025-08-19', 'realtime_end': '2025-08-19', 'date': '2009-12-01', 'value': '217.347'}, {'realtime_start': '2025-08-19', 'realtime_end': '2025-08-19', 'date': '2010-01-01', 'value': '217.488'}, {'realtime_start': '2025-08-19', 'realtime_end': '2025-08-19', 'date': '2010-02-01', 'value': '217.281'}, {'realtime_start': '2025-08-19', 'realtime_end': '2025-08-19', 'date': '2010-03-01', 'value': '217.353'}, {'realtime_start': '2025-08-19', 'realtime_end': '2025-08-19', 'date': '2010-04-01', 'value': '217.403'}, {'realtime_start': '2025-08-19', 'realtime_end': '2025-08-19', 'date': '2010-05-01', 'value': '217.290'}, {'realtime_start': '2025-08-19', 'realtime_end': '2025-08-19', 'date': '2010-06-01', 'value': '217.199'}, {'realtime_start': '2025-08-19', 'realtime_end': '2025-08-19', 'date': '2010-07-01', 'value': '217.605'}, {'realtime_start': '2025-08-19', 'realtime_end': '2025-08-19', 'date': '2010-08-01', 'value': '217.923'}, {'realtime_start': '2025-08-19', 'realtime_end': '2025-08-19', 'date': '2010-09-01', 'value': '218.275'}, {'realtime_start': '2025-08-19', 'realtime_end': '2025-08-19', 'date': '2010-10-01', 'value': '219.035'}, {'realtime_start': '2025-08-19', 'realtime_end': '2025-08-19', 'date': '2010-11-01', 'value': '219.590'}, {'realtime_start': '2025-08-19', 'realtime_end': '2025-08-19', 'date': '2010-12-01', 'value': '220.472'}, {'realtime_start': '2025-08-19', 'realtime_end': '2025-08-19', 'date': '2011-01-01', 'value': '221.187'}, {'realtime_start': '2025-08-19', 'realtime_end': '2025-08-19', 'date': '2011-02-01', 'value': '221.898'}, {'realtime_start': '2025-08-19', 'realtime_end': '2025-08-19', 'date': '2011-03-01', 'value': '223.046'}, {'realtime_start': '2025-08-19', 'realtime_end': '2025-08-19', 'date': '2011-04-01', 'value': '224.093'}, {'realtime_start': '2025-08-19', 'realtime_end': '2025-08-19', 'date': '2011-05-01', 'value': '224.806'}, {'realtime_start': '2025-08-19', 'realtime_end': '2025-08-19', 'date': '2011-06-01', 'value': '224.806'}, {'realtime_start': '2025-08-19', 'realtime_end': '2025-08-19', 'date': '2011-07-01', 'value': '225.395'}, {'realtime_start': '2025-08-19', 'realtime_end': '2025-08-19', 'date': '2011-08-01', 'value': '226.106'}, {'realtime_start': '2025-08-19', 'realtime_end': '2025-08-19', 'date': '2011-09-01', 'value': '226.597'}, {'realtime_start': '2025-08-19', 'realtime_end': '2025-08-19', 'date': '2011-10-01', 'value': '226.750'}, {'realtime_start': '2025-08-19', 'realtime_end': '2025-08-19', 'date': '2011-11-01', 'value': '227.169'}, {'realtime_start': '2025-08-19', 'realtime_end': '2025-08-19', 'date': '2011-12-01', 'value': '227.223'}, {'realtime_start': '2025-08-19', 'realtime_end': '2025-08-19', 'date': '2012-01-01', 'value': '227.842'}, {'realtime_start': '2025-08-19', 'realtime_end': '2025-08-19', 'date': '2012-02-01', 'value': '228.329'}, {'realtime_start': '2025-08-19', 'realtime_end': '2025-08-19', 'date': '2012-03-01', 'value': '228.807'}, {'realtime_start': '2025-08-19', 'realtime_end': '2025-08-19', 'date': '2012-04-01', 'value': '229.187'}, {'realtime_start': '2025-08-19', 'realtime_end': '2025-08-19', 'date': '2012-05-01', 'value': '228.713'}, {'realtime_start': '2025-08-19', 'realtime_end': '2025-08-19', 'date': '2012-06-01', 'value': '228.524'}, {'realtime_start': '2025-08-19', 'realtime_end': '2025-08-19', 'date': '2012-07-01', 'value': '228.590'}, {'realtime_start': '2025-08-19', 'realtime_end': '2025-08-19', 'date': '2012-08-01', 'value': '229.918'}, {'realtime_start': '2025-08-19', 'realtime_end': '2025-08-19', 'date': '2012-09-01', 'value': '231.015'}, {'realtime_start': '2025-08-19', 'realtime_end': '2025-08-19', 'date': '2012-10-01', 'value': '231.638'}, {'realtime_start': '2025-08-19', 'realtime_end': '2025-08-19', 'date': '2012-11-01', 'value': '231.249'}, {'realtime_start': '2025-08-19', 'realtime_end': '2025-08-19', 'date': '2012-12-01', 'value': '231.221'}, {'realtime_start': '2025-08-19', 'realtime_end': '2025-08-19', 'date': '2013-01-01', 'value': '231.679'}, {'realtime_start': '2025-08-19', 'realtime_end': '2025-08-19', 'date': '2013-02-01', 'value': '232.937'}, {'realtime_start': '2025-08-19', 'realtime_end': '2025-08-19', 'date': '2013-03-01', 'value': '232.282'}, {'realtime_start': '2025-08-19', 'realtime_end': '2025-08-19', 'date': '2013-04-01', 'value': '231.797'}, {'realtime_start': '2025-08-19', 'realtime_end': '2025-08-19', 'date': '2013-05-01', 'value': '231.893'}, {'realtime_start': '2025-08-19', 'realtime_end': '2025-08-19', 'date': '2013-06-01', 'value': '232.445'}, {'realtime_start': '2025-08-19', 'realtime_end': '2025-08-19', 'date': '2013-07-01', 'value': '232.900'}, {'realtime_start': '2025-08-19', 'realtime_end': '2025-08-19', 'date': '2013-08-01', 'value': '233.456'}, {'realtime_start': '2025-08-19', 'realtime_end': '2025-08-19', 'date': '2013-09-01', 'value': '233.544'}, {'realtime_start': '2025-08-19', 'realtime_end': '2025-08-19', 'date': '2013-10-01', 'value': '233.669'}, {'realtime_start': '2025-08-19', 'realtime_end': '2025-08-19', 'date': '2013-11-01', 'value': '234.100'}, {'realtime_start': '2025-08-19', 'realtime_end': '2025-08-19', 'date': '2013-12-01', 'value': '234.719'}, {'realtime_start': '2025-08-19', 'realtime_end': '2025-08-19', 'date': '2014-01-01', 'value': '235.288'}, {'realtime_start': '2025-08-19', 'realtime_end': '2025-08-19', 'date': '2014-02-01', 'value': '235.547'}, {'realtime_start': '2025-08-19', 'realtime_end': '2025-08-19', 'date': '2014-03-01', 'value': '236.028'}, {'realtime_start': '2025-08-19', 'realtime_end': '2025-08-19', 'date': '2014-04-01', 'value': '236.468'}, {'realtime_start': '2025-08-19', 'realtime_end': '2025-08-19', 'date': '2014-05-01', 'value': '236.918'}, {'realtime_start': '2025-08-19', 'realtime_end': '2025-08-19', 'date': '2014-06-01', 'value': '237.231'}, {'realtime_start': '2025-08-19', 'realtime_end': '2025-08-19', 'date': '2014-07-01', 'value': '237.498'}, {'realtime_start': '2025-08-19', 'realtime_end': '2025-08-19', 'date': '2014-08-01', 'value': '237.460'}, {'realtime_start': '2025-08-19', 'realtime_end': '2025-08-19', 'date': '2014-09-01', 'value': '237.477'}, {'realtime_start': '2025-08-19', 'realtime_end': '2025-08-19', 'date': '2014-10-01', 'value': '237.430'}, {'realtime_start': '2025-08-19', 'realtime_end': '2025-08-19', 'date': '2014-11-01', 'value': '236.983'}, {'realtime_start': '2025-08-19', 'realtime_end': '2025-08-19', 'date': '2014-12-01', 'value': '236.252'}, {'realtime_start': '2025-08-19', 'realtime_end': '2025-08-19', 'date': '2015-01-01', 'value': '234.747'}, {'realtime_start': '2025-08-19', 'realtime_end': '2025-08-19', 'date': '2015-02-01', 'value': '235.342'}, {'realtime_start': '2025-08-19', 'realtime_end': '2025-08-19', 'date': '2015-03-01', 'value': '235.976'}, {'realtime_start': '2025-08-19', 'realtime_end': '2025-08-19', 'date': '2015-04-01', 'value': '236.222'}, {'realtime_start': '2025-08-19', 'realtime_end': '2025-08-19', 'date': '2015-05-01', 'value': '237.001'}, {'realtime_start': '2025-08-19', 'realtime_end': '2025-08-19', 'date': '2015-06-01', 'value': '237.657'}, {'realtime_start': '2025-08-19', 'realtime_end': '2025-08-19', 'date': '2015-07-01', 'value': '238.034'}, {'realtime_start': '2025-08-19', 'realtime_end': '2025-08-19', 'date': '2015-08-01', 'value': '238.033'}, {'realtime_start': '2025-08-19', 'realtime_end': '2025-08-19', 'date': '2015-09-01', 'value': '237.498'}, {'realtime_start': '2025-08-19', 'realtime_end': '2025-08-19', 'date': '2015-10-01', 'value': '237.733'}, {'realtime_start': '2025-08-19', 'realtime_end': '2025-08-19', 'date': '2015-11-01', 'value': '238.017'}, {'realtime_start': '2025-08-19', 'realtime_end': '2025-08-19', 'date': '2015-12-01', 'value': '237.761'}, {'realtime_start': '2025-08-19', 'realtime_end': '2025-08-19', 'date': '2016-01-01', 'value': '237.652'}, {'realtime_start': '2025-08-19', 'realtime_end': '2025-08-19', 'date': '2016-02-01', 'value': '237.336'}, {'realtime_start': '2025-08-19', 'realtime_end': '2025-08-19', 'date': '2016-03-01', 'value': '238.080'}, {'realtime_start': '2025-08-19', 'realtime_end': '2025-08-19', 'date': '2016-04-01', 'value': '238.992'}, {'realtime_start': '2025-08-19', 'realtime_end': '2025-08-19', 'date': '2016-05-01', 'value': '239.557'}, {'realtime_start': '2025-08-19', 'realtime_end': '2025-08-19', 'date': '2016-06-01', 'value': '240.222'}, {'realtime_start': '2025-08-19', 'realtime_end': '2025-08-19', 'date': '2016-07-01', 'value': '240.101'}, {'realtime_start': '2025-08-19', 'realtime_end': '2025-08-19', 'date': '2016-08-01', 'value': '240.545'}, {'realtime_start': '2025-08-19', 'realtime_end': '2025-08-19', 'date': '2016-09-01', 'value': '241.176'}, {'realtime_start': '2025-08-19', 'realtime_end': '2025-08-19', 'date': '2016-10-01', 'value': '241.741'}, {'realtime_start': '2025-08-19', 'realtime_end': '2025-08-19', 'date': '2016-11-01', 'value': '242.026'}, {'realtime_start': '2025-08-19', 'realtime_end': '2025-08-19', 'date': '2016-12-01', 'value': '242.637'}, {'realtime_start': '2025-08-19', 'realtime_end': '2025-08-19', 'date': '2017-01-01', 'value': '243.618'}, {'realtime_start': '2025-08-19', 'realtime_end': '2025-08-19', 'date': '2017-02-01', 'value': '244.006'}, {'realtime_start': '2025-08-19', 'realtime_end': '2025-08-19', 'date': '2017-03-01', 'value': '243.892'}, {'realtime_start': '2025-08-19', 'realtime_end': '2025-08-19', 'date': '2017-04-01', 'value': '244.193'}, {'realtime_start': '2025-08-19', 'realtime_end': '2025-08-19', 'date': '2017-05-01', 'value': '244.004'}, {'realtime_start': '2025-08-19', 'realtime_end': '2025-08-19', 'date': '2017-06-01', 'value': '244.163'}, {'realtime_start': '2025-08-19', 'realtime_end': '2025-08-19', 'date': '2017-07-01', 'value': '244.243'}, {'realtime_start': '2025-08-19', 'realtime_end': '2025-08-19', 'date': '2017-08-01', 'value': '245.183'}, {'realtime_start': '2025-08-19', 'realtime_end': '2025-08-19', 'date': '2017-09-01', 'value': '246.435'}, {'realtime_start': '2025-08-19', 'realtime_end': '2025-08-19', 'date': '2017-10-01', 'value': '246.626'}, {'realtime_start': '2025-08-19', 'realtime_end': '2025-08-19', 'date': '2017-11-01', 'value': '247.284'}, {'realtime_start': '2025-08-19', 'realtime_end': '2025-08-19', 'date': '2017-12-01', 'value': '247.805'}, {'realtime_start': '2025-08-19', 'realtime_end': '2025-08-19', 'date': '2018-01-01', 'value': '248.859'}, {'realtime_start': '2025-08-19', 'realtime_end': '2025-08-19', 'date': '2018-02-01', 'value': '249.529'}, {'realtime_start': '2025-08-19', 'realtime_end': '2025-08-19', 'date': '2018-03-01', 'value': '249.577'}, {'realtime_start': '2025-08-19', 'realtime_end': '2025-08-19', 'date': '2018-04-01', 'value': '250.227'}, {'realtime_start': '2025-08-19', 'realtime_end': '2025-08-19', 'date': '2018-05-01', 'value': '250.792'}, {'realtime_start': '2025-08-19', 'realtime_end': '2025-08-19', 'date': '2018-06-01', 'value': '251.018'}, {'realtime_start': '2025-08-19', 'realtime_end': '2025-08-19', 'date': '2018-07-01', 'value': '251.214'}, {'realtime_start': '2025-08-19', 'realtime_end': '2025-08-19', 'date': '2018-08-01', 'value': '251.663'}, {'realtime_start': '2025-08-19', 'realtime_end': '2025-08-19', 'date': '2018-09-01', 'value': '252.182'}, {'realtime_start': '2025-08-19', 'realtime_end': '2025-08-19', 'date': '2018-10-01', 'value': '252.772'}, {'realtime_start': '2025-08-19', 'realtime_end': '2025-08-19', 'date': '2018-11-01', 'value': '252.594'}, {'realtime_start': '2025-08-19', 'realtime_end': '2025-08-19', 'date': '2018-12-01', 'value': '252.767'}, {'realtime_start': '2025-08-19', 'realtime_end': '2025-08-19', 'date': '2019-01-01', 'value': '252.561'}, {'realtime_start': '2025-08-19', 'realtime_end': '2025-08-19', 'date': '2019-02-01', 'value': '253.319'}, {'realtime_start': '2025-08-19', 'realtime_end': '2025-08-19', 'date': '2019-03-01', 'value': '254.277'}, {'realtime_start': '2025-08-19', 'realtime_end': '2025-08-19', 'date': '2019-04-01', 'value': '255.233'}, {'realtime_start': '2025-08-19', 'realtime_end': '2025-08-19', 'date': '2019-05-01', 'value': '255.296'}, {'realtime_start': '2025-08-19', 'realtime_end': '2025-08-19', 'date': '2019-06-01', 'value': '255.213'}, {'realtime_start': '2025-08-19', 'realtime_end': '2025-08-19', 'date': '2019-07-01', 'value': '255.802'}, {'realtime_start': '2025-08-19', 'realtime_end': '2025-08-19', 'date': '2019-08-01', 'value': '256.036'}, {'realtime_start': '2025-08-19', 'realtime_end': '2025-08-19', 'date': '2019-09-01', 'value': '256.430'}, {'realtime_start': '2025-08-19', 'realtime_end': '2025-08-19', 'date': '2019-10-01', 'value': '257.155'}, {'realtime_start': '2025-08-19', 'realtime_end': '2025-08-19', 'date': '2019-11-01', 'value': '257.879'}, {'realtime_start': '2025-08-19', 'realtime_end': '2025-08-19', 'date': '2019-12-01', 'value': '258.630'}, {'realtime_start': '2025-08-19', 'realtime_end': '2025-08-19', 'date': '2020-01-01', 'value': '259.127'}, {'realtime_start': '2025-08-19', 'realtime_end': '2025-08-19', 'date': '2020-02-01', 'value': '259.250'}, {'realtime_start': '2025-08-19', 'realtime_end': '2025-08-19', 'date': '2020-03-01', 'value': '258.076'}, {'realtime_start': '2025-08-19', 'realtime_end': '2025-08-19', 'date': '2020-04-01', 'value': '256.032'}, {'realtime_start': '2025-08-19', 'realtime_end': '2025-08-19', 'date': '2020-05-01', 'value': '255.802'}, {'realtime_start': '2025-08-19', 'realtime_end': '2025-08-19', 'date': '2020-06-01', 'value': '257.042'}, {'realtime_start': '2025-08-19', 'realtime_end': '2025-08-19', 'date': '2020-07-01', 'value': '258.352'}, {'realtime_start': '2025-08-19', 'realtime_end': '2025-08-19', 'date': '2020-08-01', 'value': '259.316'}, {'realtime_start': '2025-08-19', 'realtime_end': '2025-08-19', 'date': '2020-09-01', 'value': '259.997'}, {'realtime_start': '2025-08-19', 'realtime_end': '2025-08-19', 'date': '2020-10-01', 'value': '260.319'}, {'realtime_start': '2025-08-19', 'realtime_end': '2025-08-19', 'date': '2020-11-01', 'value': '260.911'}, {'realtime_start': '2025-08-19', 'realtime_end': '2025-08-19', 'date': '2020-12-01', 'value': '262.045'}, {'realtime_start': '2025-08-19', 'realtime_end': '2025-08-19', 'date': '2021-01-01', 'value': '262.639'}, {'realtime_start': '2025-08-19', 'realtime_end': '2025-08-19', 'date': '2021-02-01', 'value': '263.573'}, {'realtime_start': '2025-08-19', 'realtime_end': '2025-08-19', 'date': '2021-03-01', 'value': '264.847'}, {'realtime_start': '2025-08-19', 'realtime_end': '2025-08-19', 'date': '2021-04-01', 'value': '266.625'}, {'realtime_start': '2025-08-19', 'realtime_end': '2025-08-19', 'date': '2021-05-01', 'value': '268.404'}, {'realtime_start': '2025-08-19', 'realtime_end': '2025-08-19', 'date': '2021-06-01', 'value': '270.710'}, {'realtime_start': '2025-08-19', 'realtime_end': '2025-08-19', 'date': '2021-07-01', 'value': '271.965'}, {'realtime_start': '2025-08-19', 'realtime_end': '2025-08-19', 'date': '2021-08-01', 'value': '272.752'}, {'realtime_start': '2025-08-19', 'realtime_end': '2025-08-19', 'date': '2021-09-01', 'value': '273.942'}, {'realtime_start': '2025-08-19', 'realtime_end': '2025-08-19', 'date': '2021-10-01', 'value': '276.528'}, {'realtime_start': '2025-08-19', 'realtime_end': '2025-08-19', 'date': '2021-11-01', 'value': '278.824'}, {'realtime_start': '2025-08-19', 'realtime_end': '2025-08-19', 'date': '2021-12-01', 'value': '280.806'}, {'realtime_start': '2025-08-19', 'realtime_end': '2025-08-19', 'date': '2022-01-01', 'value': '282.542'}, {'realtime_start': '2025-08-19', 'realtime_end': '2025-08-19', 'date': '2022-02-01', 'value': '284.525'}, {'realtime_start': '2025-08-19', 'realtime_end': '2025-08-19', 'date': '2022-03-01', 'value': '287.467'}, {'realtime_start': '2025-08-19', 'realtime_end': '2025-08-19', 'date': '2022-04-01', 'value': '288.582'}, {'realtime_start': '2025-08-19', 'realtime_end': '2025-08-19', 'date': '2022-05-01', 'value': '291.299'}, {'realtime_start': '2025-08-19', 'realtime_end': '2025-08-19', 'date': '2022-06-01', 'value': '295.072'}, {'realtime_start': '2025-08-19', 'realtime_end': '2025-08-19', 'date': '2022-07-01', 'value': '294.940'}, {'realtime_start': '2025-08-19', 'realtime_end': '2025-08-19', 'date': '2022-08-01', 'value': '295.162'}, {'realtime_start': '2025-08-19', 'realtime_end': '2025-08-19', 'date': '2022-09-01', 'value': '296.421'}, {'realtime_start': '2025-08-19', 'realtime_end': '2025-08-19', 'date': '2022-10-01', 'value': '297.979'}, {'realtime_start': '2025-08-19', 'realtime_end': '2025-08-19', 'date': '2022-11-01', 'value': '298.708'}, {'realtime_start': '2025-08-19', 'realtime_end': '2025-08-19', 'date': '2022-12-01', 'value': '298.808'}, {'realtime_start': '2025-08-19', 'realtime_end': '2025-08-19', 'date': '2023-01-01', 'value': '300.456'}, {'realtime_start': '2025-08-19', 'realtime_end': '2025-08-19', 'date': '2023-02-01', 'value': '301.476'}, {'realtime_start': '2025-08-19', 'realtime_end': '2025-08-19', 'date': '2023-03-01', 'value': '301.643'}, {'realtime_start': '2025-08-19', 'realtime_end': '2025-08-19', 'date': '2023-04-01', 'value': '302.858'}, {'realtime_start': '2025-08-19', 'realtime_end': '2025-08-19', 'date': '2023-05-01', 'value': '303.316'}, {'realtime_start': '2025-08-19', 'realtime_end': '2025-08-19', 'date': '2023-06-01', 'value': '304.099'}]}\n"
     ]
    }
   ],
   "source": [
    "response = requests.get(base_url + obs_endpoint, params=obs_params)\n",
    "print(response.json())"
   ]
  },
  {
   "cell_type": "code",
   "execution_count": 13,
   "id": "4eed66ab",
   "metadata": {},
   "outputs": [
    {
     "name": "stdout",
     "output_type": "stream",
     "text": [
      "dict_keys(['realtime_start', 'realtime_end', 'observation_start', 'observation_end', 'units', 'output_type', 'file_type', 'order_by', 'sort_order', 'count', 'offset', 'limit', 'observations'])\n"
     ]
    }
   ],
   "source": [
    "if response.status_code == 200:\n",
    "    res_data = response.json()\n",
    "    obs_data = pd.DataFrame(res_data['observations'])\n",
    "    obs_data['date'] = pd.to_datetime(obs_data['date'])\n",
    "    obs_data.set_index('date', inplace=True)\n",
    "    obs_data['value'] = obs_data['value'].astype(float)\n",
    "    print(f\"{res_data.keys()}\")\n",
    "else:\n",
    "    print('Failed to retrieve data. Status code:', response.status_code)\n"
   ]
  },
  {
   "cell_type": "code",
   "execution_count": 14,
   "id": "fda866ca",
   "metadata": {},
   "outputs": [],
   "source": [
    "cat_endpoint = 'category'\n",
    "cat_id = 0\n",
    "\n",
    "cat_params = {\n",
    "    'api_key': api_key,\n",
    "    'file_type': 'json',\n",
    "    'category_id': cat_id\n",
    "}"
   ]
  },
  {
   "cell_type": "code",
   "execution_count": 15,
   "id": "8ade78d4",
   "metadata": {},
   "outputs": [],
   "source": [
    "response = requests.get(base_url + cat_endpoint, params=cat_params)\n",
    "\n",
    "if response.status_code == 200:\n",
    "    res_data = response.json()\n",
    "    \n",
    "else:\n",
    "    print('Failed to retrieve data. Status code:', response.status_code)"
   ]
  },
  {
   "cell_type": "code",
   "execution_count": 16,
   "id": "31cc2f32",
   "metadata": {},
   "outputs": [],
   "source": [
    "# Assign endpoint\n",
    "child_endpoint = 'category/children'\n",
    "parent_id = 0\n",
    "# Assign params\n",
    "child_params = {\n",
    "    'api_key': api_key,\n",
    "    'file_type': 'json',\n",
    "    'category_id': parent_id\n",
    "}\n"
   ]
  },
  {
   "cell_type": "code",
   "execution_count": 17,
   "id": "34767984",
   "metadata": {},
   "outputs": [],
   "source": [
    "\n",
    "# Make request to FRED API\n",
    "response = requests.get(base_url + child_endpoint, params=child_params)\n",
    "\n",
    "if response.status_code == 200:\n",
    "    res_data = response.json()\n",
    "    \n",
    "else:\n",
    "    print('Failed to retrieve data. Status code:', response.status_code)\n"
   ]
  },
  {
   "cell_type": "code",
   "execution_count": 18,
   "id": "6298807e",
   "metadata": {},
   "outputs": [],
   "source": [
    "\n",
    "cat_id = '32455'\n",
    "cat_srs_endpoint = 'category/series'\n",
    "cat_srs_params = {\n",
    "    'api_key': api_key,\n",
    "    'file_type': 'json',\n",
    "    'category_id': cat_id,\n",
    "}\n",
    "\n",
    "response = requests.get(base_url + cat_srs_endpoint, params=cat_srs_params)\n",
    "\n",
    "if response.status_code == 200:\n",
    "    cat_srs_data = response.json()\n",
    "    cat_srs = pd.DataFrame(cat_srs_data['seriess'])\n",
    "    cat_srs = cat_srs.sort_values(\n",
    "        by='popularity', \n",
    "        ascending=False, \n",
    "        ignore_index=True\n",
    "    )\n",
    "else:\n",
    "    print('Failed to retrieve data. Status code:', response.status_code)\n"
   ]
  },
  {
   "cell_type": "code",
   "execution_count": 19,
   "id": "18e68b28",
   "metadata": {},
   "outputs": [
    {
     "name": "stdout",
     "output_type": "stream",
     "text": [
      "      id                                               name\n",
      "0      9  Advance Monthly Sales for Retail and Food Serv...\n",
      "1     10                               Consumer Price Index\n",
      "2     11                              Employment Cost Index\n",
      "3     13  G.17 Industrial Production and Capacity Utiliz...\n",
      "4     14                               G.19 Consumer Credit\n",
      "..   ...                                                ...\n",
      "313  736                       Visa Spending Momentum Index\n",
      "314  737                            National Housing Survey\n",
      "315  738  Quits and Layoffs to Nonemployment Based on th...\n",
      "316  739            Kansas City Fed Policy Rate Uncertainty\n",
      "317  769  Fujita, Moscarini, and Postel-Vinay Employer-t...\n",
      "\n",
      "[318 rows x 2 columns]\n"
     ]
    }
   ],
   "source": [
    "\n",
    "\n",
    "rel_id_endpoint = 'releases'\n",
    "rel_id_params = {\n",
    "    'api_key': api_key,\n",
    "    'file_type': 'json',\n",
    "}\n",
    "\n",
    "response = requests.get(base_url + rel_id_endpoint, params=rel_id_params)\n",
    "\n",
    "if response.status_code == 200:\n",
    "    rel_data = response.json()\n",
    "    releases = pd.DataFrame(rel_data['releases'])\n",
    "\n",
    "else:\n",
    "    print('Failed to retrieve data. Status code:', response.status_code)\n",
    "\n",
    "# Review data\n",
    "print(releases[['id', 'name']])\n"
   ]
  },
  {
   "cell_type": "code",
   "execution_count": 26,
   "id": "4b44d2ee",
   "metadata": {},
   "outputs": [
    {
     "data": {
      "text/plain": [
       "'The U.S. Census Bureau conducts the Advance Monthly Retail Trade and Food Services Survey to provide an early estimate of monthly sales by kind of business for retail and food service firms located in the United States. Each month, questionnaires are mailed to a probability sample of approximately 4,700 employer firms selected from the larger Monthly Retail Trade Survey. Advance sales estimates are computed using a link relative estimator. For each detailed industry, we compute a ratio of current-to previous month weighted sales using data from units for which we have obtained usable responses for both the current and previous month. For each detailed industry, the advance total sales estimates for the current month is computed by multiplying this ratio by the preliminary sales estimate for the previous month (derived from the larger MRTS) at the appropriate industry level. Total estimates for broader industries are computed as the sum of the detailed industry estimates. The link relative estimate is used because imputation is not performed for most nonrespondents in MARTS. For a limited number of nonresponding companies that have influential effects on the estimates, sales may be estimated based on historical performance of that company. The monthly estimates are benchmarked to the annual survey estimates from the Annual Retail Trade Survey once available. The estimates are adjusted for seasonal variation and holiday and trading day differences. Additional information on MARTS and MRTS can be found on the Census Bureau website at: www.census.gov/retail.\\r\\nDescription of the survey as provided by the Census, https://census.gov/retail/marts/www/marts_current.pdf'"
      ]
     },
     "execution_count": 26,
     "metadata": {},
     "output_type": "execute_result"
    }
   ],
   "source": [
    "releases.iloc[0].notes"
   ]
  },
  {
   "cell_type": "code",
   "execution_count": 20,
   "id": "31766de0",
   "metadata": {},
   "outputs": [
    {
     "name": "stdout",
     "output_type": "stream",
     "text": [
      "                 id realtime_start realtime_end  \\\n",
      "0          CPIAPPNS     2025-08-19   2025-08-19   \n",
      "1          CPIAPPSL     2025-08-19   2025-08-19   \n",
      "2          CPIAUCNS     2025-08-19   2025-08-19   \n",
      "3          CPIAUCSL     2025-08-19   2025-08-19   \n",
      "4          CPIEDUNS     2025-08-19   2025-08-19   \n",
      "..              ...            ...          ...   \n",
      "995    CUURA300SAES     2025-08-19   2025-08-19   \n",
      "996     CUURA300SAF     2025-08-19   2025-08-19   \n",
      "997    CUURA300SAF1     2025-08-19   2025-08-19   \n",
      "998   CUURA300SAF11     2025-08-19   2025-08-19   \n",
      "999  CUURA300SAF116     2025-08-19   2025-08-19   \n",
      "\n",
      "                                                 title observation_start  \\\n",
      "0    Consumer Price Index for All Urban Consumers: ...        1914-12-01   \n",
      "1    Consumer Price Index for All Urban Consumers: ...        1947-01-01   \n",
      "2    Consumer Price Index for All Urban Consumers: ...        1913-01-01   \n",
      "3    Consumer Price Index for All Urban Consumers: ...        1947-01-01   \n",
      "4    Consumer Price Index for All Urban Consumers: ...        1993-01-01   \n",
      "..                                                 ...               ...   \n",
      "995  Consumer Price Index for All Urban Consumers: ...        2009-12-01   \n",
      "996  Consumer Price Index for All Urban Consumers: ...        1977-12-01   \n",
      "997  Consumer Price Index for All Urban Consumers: ...        1977-12-01   \n",
      "998  Consumer Price Index for All Urban Consumers: ...        1977-12-01   \n",
      "999  Consumer Price Index for All Urban Consumers: ...        1977-12-01   \n",
      "\n",
      "    observation_end frequency frequency_short                units  \\\n",
      "0        2025-07-01   Monthly               M  Index 1982-1984=100   \n",
      "1        2025-07-01   Monthly               M  Index 1982-1984=100   \n",
      "2        2025-07-01   Monthly               M  Index 1982-1984=100   \n",
      "3        2025-07-01   Monthly               M  Index 1982-1984=100   \n",
      "4        2025-07-01   Monthly               M   Index Dec 1997=100   \n",
      "..              ...       ...             ...                  ...   \n",
      "995      2025-07-01   Monthly               M   Index Dec 2009=100   \n",
      "996      2025-07-01   Monthly               M  Index 1982-1984=100   \n",
      "997      2025-07-01   Monthly               M  Index 1982-1984=100   \n",
      "998      2025-07-01   Monthly               M  Index 1982-1984=100   \n",
      "999      2025-07-01   Monthly               M  Index 1982-1984=100   \n",
      "\n",
      "             units_short      seasonal_adjustment seasonal_adjustment_short  \\\n",
      "0    Index 1982-1984=100  Not Seasonally Adjusted                       NSA   \n",
      "1    Index 1982-1984=100      Seasonally Adjusted                        SA   \n",
      "2    Index 1982-1984=100  Not Seasonally Adjusted                       NSA   \n",
      "3    Index 1982-1984=100      Seasonally Adjusted                        SA   \n",
      "4     Index Dec 1997=100  Not Seasonally Adjusted                       NSA   \n",
      "..                   ...                      ...                       ...   \n",
      "995   Index Dec 2009=100  Not Seasonally Adjusted                       NSA   \n",
      "996  Index 1982-1984=100  Not Seasonally Adjusted                       NSA   \n",
      "997  Index 1982-1984=100  Not Seasonally Adjusted                       NSA   \n",
      "998  Index 1982-1984=100  Not Seasonally Adjusted                       NSA   \n",
      "999  Index 1982-1984=100  Not Seasonally Adjusted                       NSA   \n",
      "\n",
      "               last_updated  popularity  group_popularity  \\\n",
      "0    2025-08-12 07:41:56-05          17                55   \n",
      "1    2025-08-12 07:41:56-05          54                55   \n",
      "2    2025-08-12 07:42:33-05          80                97   \n",
      "3    2025-08-12 07:42:33-05          96                97   \n",
      "4    2025-08-12 07:41:56-05           9                30   \n",
      "..                      ...         ...               ...   \n",
      "995  2025-08-12 07:42:13-05           1                 1   \n",
      "996  2025-08-12 07:42:13-05           1                 1   \n",
      "997  2025-08-12 07:42:13-05           1                 1   \n",
      "998  2025-08-12 07:42:13-05           1                 1   \n",
      "999  2025-08-12 07:42:13-05           1                 1   \n",
      "\n",
      "                                                 notes  \n",
      "0                                                  NaN  \n",
      "1                                                  NaN  \n",
      "2    Handbook of Methods (https://www.bls.gov/opub/...  \n",
      "3    The Consumer Price Index for All Urban Consume...  \n",
      "4                                                  NaN  \n",
      "..                                                 ...  \n",
      "995                                                NaN  \n",
      "996                                                NaN  \n",
      "997                                                NaN  \n",
      "998                                                NaN  \n",
      "999                                                NaN  \n",
      "\n",
      "[1000 rows x 16 columns]\n",
      "                 id                                              title\n",
      "0          CPIAPPNS  Consumer Price Index for All Urban Consumers: ...\n",
      "1          CPIAPPSL  Consumer Price Index for All Urban Consumers: ...\n",
      "2          CPIAUCNS  Consumer Price Index for All Urban Consumers: ...\n",
      "3          CPIAUCSL  Consumer Price Index for All Urban Consumers: ...\n",
      "4          CPIEDUNS  Consumer Price Index for All Urban Consumers: ...\n",
      "..              ...                                                ...\n",
      "995    CUURA300SAES  Consumer Price Index for All Urban Consumers: ...\n",
      "996     CUURA300SAF  Consumer Price Index for All Urban Consumers: ...\n",
      "997    CUURA300SAF1  Consumer Price Index for All Urban Consumers: ...\n",
      "998   CUURA300SAF11  Consumer Price Index for All Urban Consumers: ...\n",
      "999  CUURA300SAF116  Consumer Price Index for All Urban Consumers: ...\n",
      "\n",
      "[1000 rows x 2 columns]\n"
     ]
    }
   ],
   "source": [
    "\n",
    "rel_srs_endpoint = 'release/series'\n",
    "rel_srs_params = {\n",
    "    'api_key': api_key,\n",
    "    'file_type': 'json',\n",
    "    'release_id': 10,\n",
    "}\n",
    "\n",
    "response = requests.get(base_url + rel_srs_endpoint, params=rel_srs_params)\n",
    "\n",
    "if response.status_code == 200:\n",
    "    rel_srs_data = response.json()\n",
    "    rel_srs = pd.DataFrame(rel_srs_data['seriess'])\n",
    "\n",
    "else:\n",
    "    print('Failed to retrieve data. Status code:', response.status_code)\n",
    "\n",
    "# Review the data // use limit and offset params to paginate\n",
    "print(rel_srs)\n",
    "print(rel_srs[['id','title']])\n"
   ]
  },
  {
   "cell_type": "code",
   "execution_count": 21,
   "id": "8095811f",
   "metadata": {},
   "outputs": [
    {
     "name": "stdout",
     "output_type": "stream",
     "text": [
      "      id                                               name\n",
      "0      1  Board of Governors of the Federal Reserve Syst...\n",
      "1      3               Federal Reserve Bank of Philadelphia\n",
      "2      4                  Federal Reserve Bank of St. Louis\n",
      "3      6  Federal Financial Institutions Examination Cou...\n",
      "4     11                                Dow Jones & Company\n",
      "..   ...                                                ...\n",
      "112  301                                            Ma, Sai\n",
      "113  367                                               Visa\n",
      "114  400                                         Fannie Mae\n",
      "115  434                                 Ellieroth, Kathrin\n",
      "116  435                                    Michaud, Amanda\n",
      "\n",
      "[117 rows x 2 columns]\n"
     ]
    }
   ],
   "source": [
    "\n",
    "src_endpoint = 'sources'\n",
    "src_params = {\n",
    "    'api_key': api_key,\n",
    "    'file_type': 'json',\n",
    "}\n",
    "\n",
    "response = requests.get(base_url + src_endpoint, params=src_params)\n",
    "\n",
    "if response.status_code == 200:\n",
    "    src_data = response.json()\n",
    "    src = pd.DataFrame(src_data['sources'])\n",
    "else:\n",
    "    print('Failed to retrieve data. Status code:', response.status_code)\n",
    "\n",
    "# Review data // sources are related to releases and vice versa\n",
    "print(src[['id', 'name']])"
   ]
  }
 ],
 "metadata": {
  "kernelspec": {
   "display_name": "myenv",
   "language": "python",
   "name": "python3"
  },
  "language_info": {
   "codemirror_mode": {
    "name": "ipython",
    "version": 3
   },
   "file_extension": ".py",
   "mimetype": "text/x-python",
   "name": "python",
   "nbconvert_exporter": "python",
   "pygments_lexer": "ipython3",
   "version": "3.13.2"
  }
 },
 "nbformat": 4,
 "nbformat_minor": 5
}
